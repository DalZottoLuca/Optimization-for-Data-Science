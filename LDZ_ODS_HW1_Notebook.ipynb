{
 "cells": [
  {
   "cell_type": "markdown",
   "metadata": {
    "colab_type": "text",
    "id": "42ao7v9oD5BC"
   },
   "source": [
    "### Luca Dal Zotto   1236343\n",
    "# Optimization for Data Science - Homework 1\n",
    "\n"
   ]
  },
  {
   "cell_type": "code",
   "execution_count": 1,
   "metadata": {
    "colab": {},
    "colab_type": "code",
    "id": "PF7RLT262DMd"
   },
   "outputs": [],
   "source": [
    "# Import the libraries\n",
    "import pandas as pd\n",
    "import numpy as np\n",
    "import matplotlib.pyplot as plt\n",
    "import time"
   ]
  },
  {
   "cell_type": "code",
   "execution_count": 2,
   "metadata": {
    "colab": {
     "base_uri": "https://localhost:8080/",
     "height": 244
    },
    "colab_type": "code",
    "executionInfo": {
     "elapsed": 1209,
     "status": "ok",
     "timestamp": 1589717441477,
     "user": {
      "displayName": "Luca Dal Zotto",
      "photoUrl": "https://lh3.googleusercontent.com/a-/AOh14GhD7XGJmCeDtA5XbyjEDnO63Wy483NNMLaHJUQ9=s64",
      "userId": "08734846331181599133"
     },
     "user_tz": -120
    },
    "id": "6rlUMGYm2TMd",
    "outputId": "93f32037-b28a-4e9a-bdd5-b2b29daf353a"
   },
   "outputs": [
    {
     "data": {
      "text/html": [
       "<div>\n",
       "<style scoped>\n",
       "    .dataframe tbody tr th:only-of-type {\n",
       "        vertical-align: middle;\n",
       "    }\n",
       "\n",
       "    .dataframe tbody tr th {\n",
       "        vertical-align: top;\n",
       "    }\n",
       "\n",
       "    .dataframe thead th {\n",
       "        text-align: right;\n",
       "    }\n",
       "</style>\n",
       "<table border=\"1\" class=\"dataframe\">\n",
       "  <thead>\n",
       "    <tr style=\"text-align: right;\">\n",
       "      <th></th>\n",
       "      <th>A.1053_at</th>\n",
       "      <th>A.200039_s_at</th>\n",
       "      <th>A.200053_at</th>\n",
       "      <th>A.200079_s_at</th>\n",
       "      <th>A.200628_s_at</th>\n",
       "      <th>A.200639_s_at</th>\n",
       "      <th>A.200670_at</th>\n",
       "      <th>A.200687_s_at</th>\n",
       "      <th>A.200710_at</th>\n",
       "      <th>A.200740_s_at</th>\n",
       "      <th>...</th>\n",
       "      <th>B.243754_at</th>\n",
       "      <th>B.243806_at</th>\n",
       "      <th>B.244116_at</th>\n",
       "      <th>B.244375_at</th>\n",
       "      <th>B.244571_s_at</th>\n",
       "      <th>B.244677_at</th>\n",
       "      <th>B.244696_at</th>\n",
       "      <th>B.AFFX.HUMGAPDH.M33197_3_at</th>\n",
       "      <th>B.AFFX.HUMGAPDH.M33197_M_at</th>\n",
       "      <th>code</th>\n",
       "    </tr>\n",
       "  </thead>\n",
       "  <tbody>\n",
       "    <tr>\n",
       "      <th>0</th>\n",
       "      <td>-178.07400</td>\n",
       "      <td>-162.81300</td>\n",
       "      <td>0.95049</td>\n",
       "      <td>-0.92321</td>\n",
       "      <td>-0.76512</td>\n",
       "      <td>-0.82299</td>\n",
       "      <td>0.14885</td>\n",
       "      <td>-0.16353</td>\n",
       "      <td>156.08900</td>\n",
       "      <td>-0.43334</td>\n",
       "      <td>...</td>\n",
       "      <td>-119.31600</td>\n",
       "      <td>0.38201</td>\n",
       "      <td>0.80869</td>\n",
       "      <td>148.40500</td>\n",
       "      <td>0.93375</td>\n",
       "      <td>188.42500</td>\n",
       "      <td>0.79498</td>\n",
       "      <td>-0.34428</td>\n",
       "      <td>-0.45370</td>\n",
       "      <td>control</td>\n",
       "    </tr>\n",
       "    <tr>\n",
       "      <th>1</th>\n",
       "      <td>0.77860</td>\n",
       "      <td>103.82900</td>\n",
       "      <td>27.80400</td>\n",
       "      <td>0.86301</td>\n",
       "      <td>280.37300</td>\n",
       "      <td>116.87800</td>\n",
       "      <td>-182.51500</td>\n",
       "      <td>0.94768</td>\n",
       "      <td>-118.57900</td>\n",
       "      <td>-0.90655</td>\n",
       "      <td>...</td>\n",
       "      <td>414.43100</td>\n",
       "      <td>-156.82400</td>\n",
       "      <td>-129.93700</td>\n",
       "      <td>-0.71467</td>\n",
       "      <td>-0.53362</td>\n",
       "      <td>0.29520</td>\n",
       "      <td>-0.79119</td>\n",
       "      <td>0.52271</td>\n",
       "      <td>0.34805</td>\n",
       "      <td>control</td>\n",
       "    </tr>\n",
       "    <tr>\n",
       "      <th>2</th>\n",
       "      <td>-0.09262</td>\n",
       "      <td>-0.49349</td>\n",
       "      <td>240.43300</td>\n",
       "      <td>-0.97493</td>\n",
       "      <td>-125.63300</td>\n",
       "      <td>-0.46814</td>\n",
       "      <td>0.38507</td>\n",
       "      <td>-0.09930</td>\n",
       "      <td>181.21100</td>\n",
       "      <td>-0.16871</td>\n",
       "      <td>...</td>\n",
       "      <td>-0.29822</td>\n",
       "      <td>-0.04139</td>\n",
       "      <td>-0.40590</td>\n",
       "      <td>161.40200</td>\n",
       "      <td>100.48900</td>\n",
       "      <td>0.41590</td>\n",
       "      <td>-0.83669</td>\n",
       "      <td>0.67591</td>\n",
       "      <td>0.59034</td>\n",
       "      <td>control</td>\n",
       "    </tr>\n",
       "    <tr>\n",
       "      <th>3</th>\n",
       "      <td>-0.94097</td>\n",
       "      <td>-146.44200</td>\n",
       "      <td>0.41952</td>\n",
       "      <td>-0.09367</td>\n",
       "      <td>-0.88072</td>\n",
       "      <td>-0.02752</td>\n",
       "      <td>0.25956</td>\n",
       "      <td>0.81404</td>\n",
       "      <td>131.59900</td>\n",
       "      <td>-181.79700</td>\n",
       "      <td>...</td>\n",
       "      <td>-128.23500</td>\n",
       "      <td>133.18200</td>\n",
       "      <td>131.97300</td>\n",
       "      <td>0.44038</td>\n",
       "      <td>-0.34298</td>\n",
       "      <td>-0.50842</td>\n",
       "      <td>152.16700</td>\n",
       "      <td>0.22996</td>\n",
       "      <td>-0.07909</td>\n",
       "      <td>control</td>\n",
       "    </tr>\n",
       "    <tr>\n",
       "      <th>4</th>\n",
       "      <td>-0.37998</td>\n",
       "      <td>112.91100</td>\n",
       "      <td>114.43900</td>\n",
       "      <td>-0.03021</td>\n",
       "      <td>0.02694</td>\n",
       "      <td>-0.88384</td>\n",
       "      <td>136.29900</td>\n",
       "      <td>-0.79516</td>\n",
       "      <td>0.78018</td>\n",
       "      <td>0.00896</td>\n",
       "      <td>...</td>\n",
       "      <td>-0.28505</td>\n",
       "      <td>-150.53500</td>\n",
       "      <td>208.46600</td>\n",
       "      <td>0.94317</td>\n",
       "      <td>0.15134</td>\n",
       "      <td>-0.81930</td>\n",
       "      <td>107.53700</td>\n",
       "      <td>0.25983</td>\n",
       "      <td>0.73937</td>\n",
       "      <td>control</td>\n",
       "    </tr>\n",
       "  </tbody>\n",
       "</table>\n",
       "<p>5 rows × 1001 columns</p>\n",
       "</div>"
      ],
      "text/plain": [
       "   A.1053_at  A.200039_s_at  A.200053_at  A.200079_s_at  A.200628_s_at  \\\n",
       "0 -178.07400     -162.81300      0.95049       -0.92321       -0.76512   \n",
       "1    0.77860      103.82900     27.80400        0.86301      280.37300   \n",
       "2   -0.09262       -0.49349    240.43300       -0.97493     -125.63300   \n",
       "3   -0.94097     -146.44200      0.41952       -0.09367       -0.88072   \n",
       "4   -0.37998      112.91100    114.43900       -0.03021        0.02694   \n",
       "\n",
       "   A.200639_s_at  A.200670_at  A.200687_s_at  A.200710_at  A.200740_s_at  ...  \\\n",
       "0       -0.82299      0.14885       -0.16353    156.08900       -0.43334  ...   \n",
       "1      116.87800   -182.51500        0.94768   -118.57900       -0.90655  ...   \n",
       "2       -0.46814      0.38507       -0.09930    181.21100       -0.16871  ...   \n",
       "3       -0.02752      0.25956        0.81404    131.59900     -181.79700  ...   \n",
       "4       -0.88384    136.29900       -0.79516      0.78018        0.00896  ...   \n",
       "\n",
       "   B.243754_at  B.243806_at  B.244116_at  B.244375_at  B.244571_s_at  \\\n",
       "0   -119.31600      0.38201      0.80869    148.40500        0.93375   \n",
       "1    414.43100   -156.82400   -129.93700     -0.71467       -0.53362   \n",
       "2     -0.29822     -0.04139     -0.40590    161.40200      100.48900   \n",
       "3   -128.23500    133.18200    131.97300      0.44038       -0.34298   \n",
       "4     -0.28505   -150.53500    208.46600      0.94317        0.15134   \n",
       "\n",
       "   B.244677_at  B.244696_at  B.AFFX.HUMGAPDH.M33197_3_at  \\\n",
       "0    188.42500      0.79498                     -0.34428   \n",
       "1      0.29520     -0.79119                      0.52271   \n",
       "2      0.41590     -0.83669                      0.67591   \n",
       "3     -0.50842    152.16700                      0.22996   \n",
       "4     -0.81930    107.53700                      0.25983   \n",
       "\n",
       "   B.AFFX.HUMGAPDH.M33197_M_at     code  \n",
       "0                     -0.45370  control  \n",
       "1                      0.34805  control  \n",
       "2                      0.59034  control  \n",
       "3                     -0.07909  control  \n",
       "4                      0.73937  control  \n",
       "\n",
       "[5 rows x 1001 columns]"
      ]
     },
     "execution_count": 2,
     "metadata": {},
     "output_type": "execute_result"
    }
   ],
   "source": [
    "# Import the data\n",
    "data = pd.read_csv('breastcancer.csv')\n",
    "\n",
    "# Show the first 5 rows of the dataset\n",
    "data.head()"
   ]
  },
  {
   "cell_type": "code",
   "execution_count": 3,
   "metadata": {
    "colab": {
     "base_uri": "https://localhost:8080/",
     "height": 50
    },
    "colab_type": "code",
    "executionInfo": {
     "elapsed": 922,
     "status": "ok",
     "timestamp": 1589719914704,
     "user": {
      "displayName": "Luca Dal Zotto",
      "photoUrl": "https://lh3.googleusercontent.com/a-/AOh14GhD7XGJmCeDtA5XbyjEDnO63Wy483NNMLaHJUQ9=s64",
      "userId": "08734846331181599133"
     },
     "user_tz": -120
    },
    "id": "dYjknAZxQPWY",
    "outputId": "462c2b7e-65fe-466f-aa62-91a96926136f"
   },
   "outputs": [
    {
     "name": "stdout",
     "output_type": "stream",
     "text": [
      "- Number of observations: 250\n",
      "- Number of attributes: 1001\n"
     ]
    }
   ],
   "source": [
    "# Check the dimensionality of the problem\n",
    "m = data.shape[0]\n",
    "n = data.shape[1]\n",
    "print('- Number of observations:', m)\n",
    "print('- Number of attributes:', n)"
   ]
  },
  {
   "cell_type": "markdown",
   "metadata": {
    "colab_type": "text",
    "id": "0ptmQnK9n1tm"
   },
   "source": [
    "### Data pre-processing"
   ]
  },
  {
   "cell_type": "code",
   "execution_count": 4,
   "metadata": {
    "colab": {},
    "colab_type": "code",
    "id": "uHLs4SrKQmFr"
   },
   "outputs": [],
   "source": [
    "# Create the feature matrix and the label vector\n",
    "X = np.array(data.iloc[:, :-1], dtype=float)\n",
    "y = np.array(data.iloc[:,-1])\n",
    "y = y.reshape(-1,1)\n",
    "y[y=='control'] = -1\n",
    "y[y=='case'] = 1\n",
    "y = np.array(y, dtype = float)"
   ]
  },
  {
   "cell_type": "code",
   "execution_count": 5,
   "metadata": {
    "colab": {},
    "colab_type": "code",
    "id": "EY6BAhhwVd2I"
   },
   "outputs": [],
   "source": [
    "# Normalize the dataset\n",
    "x_mu, x_std = X.mean(axis=0), X.std(axis=0)\n",
    "X = (X - x_mu) / x_std"
   ]
  },
  {
   "cell_type": "code",
   "execution_count": 6,
   "metadata": {
    "colab": {},
    "colab_type": "code",
    "id": "ucE8dWldVw8Y"
   },
   "outputs": [],
   "source": [
    "# Add a column of ones - the bias term\n",
    "# X = np.concatenate([X, np.ones([len(X), 1], dtype=np.float32)], axis=-1)"
   ]
  },
  {
   "cell_type": "code",
   "execution_count": 7,
   "metadata": {
    "colab": {
     "base_uri": "https://localhost:8080/",
     "height": 50
    },
    "colab_type": "code",
    "executionInfo": {
     "elapsed": 600,
     "status": "ok",
     "timestamp": 1589717449734,
     "user": {
      "displayName": "Luca Dal Zotto",
      "photoUrl": "https://lh3.googleusercontent.com/a-/AOh14GhD7XGJmCeDtA5XbyjEDnO63Wy483NNMLaHJUQ9=s64",
      "userId": "08734846331181599133"
     },
     "user_tz": -120
    },
    "id": "Vi3EVcqQ8IKs",
    "outputId": "95b8dca5-0acd-4ba6-ad8e-c0913e43d0ba"
   },
   "outputs": [
    {
     "name": "stdout",
     "output_type": "stream",
     "text": [
      "- Shape of the feature matrix: (250, 1000)\n",
      "- Shape of the label vector: (250, 1)\n"
     ]
    }
   ],
   "source": [
    "# Check the dimensionality of the problem\n",
    "print('- Shape of the feature matrix:', X.shape)\n",
    "print('- Shape of the label vector:', y.shape)"
   ]
  },
  {
   "cell_type": "markdown",
   "metadata": {
    "colab_type": "text",
    "id": "dCJ072ftooQu"
   },
   "source": [
    "### The Regularized Logistic Regression problem"
   ]
  },
  {
   "cell_type": "code",
   "execution_count": 8,
   "metadata": {
    "colab": {},
    "colab_type": "code",
    "id": "8JBSpPmf3EQT"
   },
   "outputs": [],
   "source": [
    "# Loss function\n",
    "def h(X,y,w):\n",
    "    return np.sum(np.log(1 + np.exp(-y*np.dot(X,w))))/len(X) + Lambda*np.sum(w*w)/(2*len(X))"
   ]
  },
  {
   "cell_type": "code",
   "execution_count": 9,
   "metadata": {},
   "outputs": [],
   "source": [
    "def sigmoid(z):\n",
    "    s = 1 / (1 + np.exp(-z))    \n",
    "    return s"
   ]
  },
  {
   "cell_type": "code",
   "execution_count": 10,
   "metadata": {},
   "outputs": [],
   "source": [
    "# Gradient of the loss function\n",
    "# ATT: it is the sum for i from 1 to m of the gradients of h_i divided by m (number of rows of X)\n",
    "def grad(X,y,w):\n",
    "    return (-np.sum(np.dot(X.T, y * (1 - sigmoid(y*np.dot(X,w)))) , axis = 1, keepdims = True ) + Lambda*w/250)/len(X)"
   ]
  },
  {
   "cell_type": "markdown",
   "metadata": {
    "colab_type": "text",
    "id": "MI50Wu0EoqcP"
   },
   "source": [
    "### Implementation of the three methods"
   ]
  },
  {
   "cell_type": "code",
   "execution_count": 11,
   "metadata": {
    "colab": {},
    "colab_type": "code",
    "id": "8W8iaiAa3FXA"
   },
   "outputs": [],
   "source": [
    "def GD(X, y, w, alpha, maxit, Lambda, fstop = 0):\n",
    "\n",
    "  # Implementation of the Gradient Descent method\n",
    "\n",
    "  # INPUT:\n",
    "  # X = feature matrix\n",
    "  # y = labels\n",
    "  # w = initial vector of parameters\n",
    "  # alpha = fixed step-size\n",
    "  # maxit = max number of iterations\n",
    "  # Lambda = regularization term\n",
    "  # fstop = target loss function value\n",
    "\n",
    "  # OUTPUT:\n",
    "  # w = final values of the parameters\n",
    "  # it = number of iterations\n",
    "  # hw = final value of the loss function\n",
    "  # ttot = total CPU time expired\n",
    "  # loss_history = vector of the loss funcion at each iteration\n",
    "  # timeVec = vector of the CPU time required by each iteration\n",
    "\n",
    "  # Initialize time and loss vectors\n",
    "  loss_history = []\n",
    "  timeVec = []\n",
    "\n",
    "  # Compute the starting value of the loss \n",
    "  hw = h(X,y,w)\n",
    "  loss_history.append(hw)\n",
    "\n",
    "  # Start the time\n",
    "  start_time = time.time()\n",
    "  \n",
    "  for it in range(maxit):\n",
    "\n",
    "      # add the cumulative time for each iteraction\n",
    "      timeVec.append(time.time() - start_time)\n",
    "\n",
    "      # check the stopping criteria: loss lower than target value fstop\n",
    "      if hw <= fstop:\n",
    "          loss_history.append(hw)\n",
    "          break\n",
    "\n",
    "      # gradient evaluation\n",
    "      g = grad(X,y,w).reshape(-1,1)\n",
    "      \n",
    "      d = - g\n",
    "\n",
    "      # parameters update  \n",
    "      w = w + (alpha * d)\n",
    "\n",
    "      # loss evaluation\n",
    "      hw = h(X,y,w)        \n",
    "      loss_history.append(hw)\n",
    "\n",
    "\n",
    "  ttot = time.time() - start_time\n",
    "  timeVec.append(ttot)\n",
    "\n",
    "  return [w,it+1,hw,ttot,loss_history,timeVec]"
   ]
  },
  {
   "cell_type": "code",
   "execution_count": 12,
   "metadata": {
    "colab": {},
    "colab_type": "code",
    "id": "qlXiN3qovVBX"
   },
   "outputs": [],
   "source": [
    "def SGD(X, y, w, alpha, maxit, Lambda, fstop = 0):\n",
    "\n",
    "  # Implementation of the Stochastic Gradient Descent method\n",
    "\n",
    "  # INPUT:\n",
    "  # X = feature matrix\n",
    "  # y = labels\n",
    "  # w = initial vector of parameters\n",
    "  # alpha = starting step-size\n",
    "  # maxit = max number of iterations\n",
    "  # Lambda = regularization term\n",
    "  # fstop = target loss function value\n",
    "\n",
    "  # OUTPUT:\n",
    "  # w = final values of the parameters\n",
    "  # it = number of iterations\n",
    "  # hw = final value of the loss function\n",
    "  # ttot = total CPU time expired\n",
    "  # loss_history = vector of the loss funcion at each iteration\n",
    "  # timeVec = vector of the CPU time required by each iteration\n",
    "\n",
    "  # Initialize time and loss vectors  \n",
    "  loss_history = []\n",
    "  timeVec = []\n",
    "\n",
    "  # Compute the starting value of the loss \n",
    "  hw = h(X,y,w)\n",
    "  loss_history.append(hw)\n",
    "\n",
    "  # start the time\n",
    "  start_time = time.time()\n",
    "  timeVec.append(time.time() - start_time)\n",
    "  \n",
    "  for it in range(maxit):\n",
    "\n",
    "      # check the stopping criteria: loss lower than target value fstop\n",
    "      if hw <= fstop:\n",
    "          break\n",
    "\n",
    "      # gradient evaluation\n",
    "      # pick a random index\n",
    "      ind = np.random.randint(len(X))\n",
    "      # update the corresponding component\n",
    "      g = grad(X[ind,:].reshape(1,-1), y[ind,:].reshape(1,-1), w)\n",
    "      d = - g\n",
    "\n",
    "      # reduced alpha\n",
    "#       alpha = alpha/(it+1)\n",
    "      alpha = np.sqrt(alpha*2/(it+1))\n",
    "#       alpha = np.sqrt(alpha/(it/5+100))\n",
    "      # alpha = np.sqrt(alpha/(it/100 + 10000))\n",
    "      # alpha = (alpha/(it+20000))**(1/2)\n",
    "\n",
    "      # parameters update  \n",
    "      w = w + alpha * d\n",
    "\n",
    "      # new loss evaluation every 10000 iterations\n",
    "      if it%30 == 0:\n",
    "        hw = h(X,y,w)        \n",
    "        loss_history.append(hw)\n",
    "\n",
    "        # add the cumulative time every 10000 iteractions\n",
    "        timeVec.append(time.time() - start_time)\n",
    "      \n",
    "\n",
    "  ttot = time.time() - start_time\n",
    "\n",
    "  return [w,it+1,hw,ttot,loss_history,timeVec]"
   ]
  },
  {
   "cell_type": "code",
   "execution_count": 13,
   "metadata": {
    "colab": {},
    "colab_type": "code",
    "id": "YJx8jC2LQDKT"
   },
   "outputs": [],
   "source": [
    "def SVRG(X, y, w_epoch, alpha, l, max_epoch, Lambda, fstop = 0):\n",
    "\n",
    "  # INPUT:\n",
    "  # X = feature matrix\n",
    "  # y = labels\n",
    "  # w_epoch = initial vector of parameters\n",
    "  # alpha = fixed step-size\n",
    "  # l = number of iterations for each epoch\n",
    "  # max_epoch = max number of epoches\n",
    "  # Lambda = regularization term\n",
    "  # fstop = target loss function value\n",
    "\n",
    "  # OUTPUT:\n",
    "  # w = final values of the parameters\n",
    "  # it = number of iterations\n",
    "  # hw = final value of the loss function\n",
    "  # ttot = total CPU time expired\n",
    "  # loss_history = vector of the loss funcion at each iteration\n",
    "  # timeVec = vector of the CPU time required by each iteration\n",
    "\n",
    "  # Initialize time and loss vectors  \n",
    "  loss_history = []\n",
    "  timeVec = []\n",
    "\n",
    "  # Compute the starting value of the loss \n",
    "  hw = h(X,y,w_epoch)\n",
    "  loss_history.append(hw)\n",
    "\n",
    "  # start the time\n",
    "  start_time = time.time()\n",
    "\n",
    "  for s in range(max_epoch):\n",
    "\n",
    "    # check the stopping criteria: loss lower than target value fstop\n",
    "    if hw <= fstop:\n",
    "          break\n",
    "\n",
    "    # add the cumulative time every epoch\n",
    "    timeVec.append(time.time() - start_time)\n",
    "\n",
    "    # compute the full gradient using the vector of parameters of the epoch\n",
    "    full_grad = grad(X,y,w_epoch)\n",
    "\n",
    "    w_iter = w_epoch\n",
    "\n",
    "    # Inner loop of each epoch:\n",
    "    for k in range(l):\n",
    "\n",
    "      # gradient evaluation\n",
    "      # pick a random index\n",
    "      ind = np.random.randint(len(X))\n",
    "      # compute the ind^th component using the current parameter\n",
    "      grad_iter_ind = grad(X[ind,:].reshape(1,-1), y[ind,:].reshape(1,-1), w_iter)\n",
    "      # compute the ind^th component using the epoch's parameter\n",
    "      grad_epoch_ind = grad(X[ind,:].reshape(1,-1), y[ind,:].reshape(1,-1), w_epoch)\n",
    "      # compute the direction\n",
    "      d = -(grad_iter_ind - grad_epoch_ind + full_grad)\n",
    "\n",
    "      # parameters update \n",
    "      w_iter = w_iter + alpha*d\n",
    "\n",
    "    # once ended the inner loop, compute new epoch's parameter and the new value of the loss function\n",
    "    w_epoch = w_iter\n",
    "    hw = h(X,y,w_epoch)        \n",
    "    loss_history.append(hw)\n",
    "\n",
    "  \n",
    "  ttot = time.time() - start_time\n",
    "  timeVec.append(ttot)\n",
    "\n",
    "  return [w,(s+1)*(k+1),hw,ttot,loss_history,timeVec]"
   ]
  },
  {
   "cell_type": "markdown",
   "metadata": {
    "colab_type": "text",
    "id": "qkvSAcpOqR2Z"
   },
   "source": [
    "### Test the methods on the small dataset"
   ]
  },
  {
   "cell_type": "code",
   "execution_count": 16,
   "metadata": {
    "colab": {
     "base_uri": "https://localhost:8080/",
     "height": 353
    },
    "colab_type": "code",
    "executionInfo": {
     "elapsed": 4036,
     "status": "ok",
     "timestamp": 1589720138988,
     "user": {
      "displayName": "Luca Dal Zotto",
      "photoUrl": "https://lh3.googleusercontent.com/a-/AOh14GhD7XGJmCeDtA5XbyjEDnO63Wy483NNMLaHJUQ9=s64",
      "userId": "08734846331181599133"
     },
     "user_tz": -120
    },
    "id": "CFtCpqsfzQzS",
    "outputId": "a62abec1-8ae1-4f4a-c145-672abd7db1b5"
   },
   "outputs": [
    {
     "name": "stdout",
     "output_type": "stream",
     "text": [
      "***************\n",
      "*  GD Method  *\n",
      "***************\n",
      "h(w) =  0.08022502300014869\n",
      "Number of iterations =  200\n",
      "CPU time so far =  0.06641149520874023\n",
      "\n",
      "***************\n",
      "*  SGD Method *\n",
      "***************\n",
      "h(w) =  5.748610524408246\n",
      "Number of iterations =  1000\n",
      "CPU time so far =  0.14719867706298828\n",
      "\n",
      "***************\n",
      "* SVRG Method *\n",
      "***************\n",
      "h(w) =  0.19205413169157878\n",
      "Number of iterations =  400\n",
      "CPU time so far =  0.09107756614685059\n"
     ]
    }
   ],
   "source": [
    "# target loss function value:\n",
    "fstop = 0\n",
    "\n",
    "# Max number of iterations\n",
    "maxit_gd = 200\n",
    "maxit_sgd= 1000\n",
    "max_epoch = 20\n",
    "iter_per_epoch = 20\n",
    "\n",
    "# Step-size\n",
    "alpha_gd = 0.1\n",
    "alpha_sgd = 0.1\n",
    "alpha_svrg = 0.05\n",
    "\n",
    "# Lambda\n",
    "Lambda = 0\n",
    "\n",
    "# starting point\n",
    "#deterministic initialization\n",
    "# w0= np.zeros((X.shape[1],1));\n",
    "# random initialization\n",
    "np.random.seed(123)\n",
    "w0 = np.random.uniform(0,1, (X.shape[1],1))\n",
    "\n",
    "print('***************')\n",
    "print('*  GD Method  *')\n",
    "print('***************')\n",
    "\n",
    "[w,it,hw,ttot,loss_history_gd,timeVec_gd] = GD(X, y, w0, alpha_gd, maxit_gd, Lambda, fstop)\n",
    "\n",
    "\n",
    "# Print results\n",
    "print('h(w) = ',hw)\n",
    "print('Number of iterations = ', it)\n",
    "print('CPU time so far = ', ttot)\n",
    "print('')\n",
    "\n",
    "\n",
    "print('***************')\n",
    "print('*  SGD Method *')\n",
    "print('***************')\n",
    "\n",
    "[w,it,hw,ttot,loss_history_sgd,timeVec_sgd] = SGD(X, y, w0, alpha_sgd, maxit_sgd, Lambda, fstop)\n",
    "\n",
    "# Print results\n",
    "print('h(w) = ',hw)\n",
    "print('Number of iterations = ', it)\n",
    "print('CPU time so far = ', ttot)\n",
    "print('')\n",
    "\n",
    "\n",
    "print('***************')\n",
    "print('* SVRG Method *')\n",
    "print('***************')\n",
    "\n",
    "[w,it,hw,ttot,loss_history_svrg,timeVec_svrg] = SVRG(X, y, w0, alpha_svrg, iter_per_epoch, max_epoch, fstop, Lambda)\n",
    "\n",
    "# Print results\n",
    "print('h(w) = ',hw)\n",
    "print('Number of iterations = ', it)\n",
    "print('CPU time so far = ', ttot)\n",
    "\n"
   ]
  },
  {
   "cell_type": "code",
   "execution_count": 17,
   "metadata": {
    "colab": {
     "base_uri": "https://localhost:8080/",
     "height": 415
    },
    "colab_type": "code",
    "executionInfo": {
     "elapsed": 1217,
     "status": "ok",
     "timestamp": 1589720140906,
     "user": {
      "displayName": "Luca Dal Zotto",
      "photoUrl": "https://lh3.googleusercontent.com/a-/AOh14GhD7XGJmCeDtA5XbyjEDnO63Wy483NNMLaHJUQ9=s64",
      "userId": "08734846331181599133"
     },
     "user_tz": -120
    },
    "id": "OE5ls3qvjmrm",
    "outputId": "8878e4bf-81e6-4c71-c601-215fce368d5e"
   },
   "outputs": [
    {
     "data": {
      "image/png": "[encoded data removed]",
      "text/plain": [
       "<Figure size 720x432 with 1 Axes>"
      ]
     },
     "metadata": {
      "needs_background": "light"
     },
     "output_type": "display_data"
    }
   ],
   "source": [
    "# Plot accuracy vs CPU time\n",
    "plt.figure(figsize=(10,6))\n",
    "\n",
    "plt.plot(timeVec_gd,loss_history_gd, color='red')\n",
    "\n",
    "plt.plot(timeVec_sgd,loss_history_sgd, color='blue')\n",
    "\n",
    "plt.plot(timeVec_svrg,loss_history_svrg, color='green')\n",
    "\n",
    "plt.title('Loss vs CPU Time', fontsize=22)\n",
    "plt.xlabel('CPU Time', fontsize=15)\n",
    "plt.ylabel('Loss', fontsize=15)\n",
    "z = plt.legend(('GD','SGD','SVRG'), fontsize=15)\n"
   ]
  },
  {
   "cell_type": "markdown",
   "metadata": {
    "colab_type": "text",
    "id": "KEdpHHxcp8mA"
   },
   "source": [
    "### Test the methods on the large dataset"
   ]
  },
  {
   "cell_type": "code",
   "execution_count": 18,
   "metadata": {
    "colab": {},
    "colab_type": "code",
    "id": "QXtfdQ-8rEc7"
   },
   "outputs": [],
   "source": [
    "X_large = np.repeat(X, 1000, axis = 0)\n",
    "y_large = np.repeat(y, 1000, axis = 0)"
   ]
  },
  {
   "cell_type": "code",
   "execution_count": 19,
   "metadata": {
    "colab": {
     "base_uri": "https://localhost:8080/",
     "height": 50
    },
    "colab_type": "code",
    "executionInfo": {
     "elapsed": 526,
     "status": "ok",
     "timestamp": 1589718951774,
     "user": {
      "displayName": "Luca Dal Zotto",
      "photoUrl": "https://lh3.googleusercontent.com/a-/AOh14GhD7XGJmCeDtA5XbyjEDnO63Wy483NNMLaHJUQ9=s64",
      "userId": "08734846331181599133"
     },
     "user_tz": -120
    },
    "id": "VJPZa0YrrVtY",
    "outputId": "719d6038-f518-43e9-9dbe-ffcc940373b1"
   },
   "outputs": [
    {
     "name": "stdout",
     "output_type": "stream",
     "text": [
      "- Shape of the feature matrix: (250000, 1000)\n",
      "- Shape of the label vector: (250000, 1)\n"
     ]
    }
   ],
   "source": [
    "# Check the dimensionality of the problem\n",
    "print('- Shape of the feature matrix:', X_large.shape)\n",
    "print('- Shape of the label vector:', y_large.shape)"
   ]
  },
  {
   "cell_type": "code",
   "execution_count": 20,
   "metadata": {},
   "outputs": [],
   "source": [
    "# SGD with a different diminishing step-size\n",
    "\n",
    "def SGD(X, y, w, alpha, maxit, Lambda, fstop = 0):\n",
    "\n",
    "  # Implementation of the Stochastic Gradient Descent method\n",
    "\n",
    "  # INPUT:\n",
    "  # X = feature matrix\n",
    "  # y = labels\n",
    "  # w = initial vector of parameters\n",
    "  # alpha = starting step-size\n",
    "  # maxit = max number of iterations\n",
    "  # Lambda = regularization term\n",
    "  # fstop = target loss function value\n",
    "\n",
    "  # OUTPUT:\n",
    "  # w = final values of the parameters\n",
    "  # it = number of iterations\n",
    "  # hw = final value of the loss function\n",
    "  # ttot = total CPU time expired\n",
    "  # loss_history = vector of the loss funcion at each iteration\n",
    "  # timeVec = vector of the CPU time required by each iteration\n",
    "\n",
    "  # Initialize time and loss vectors  \n",
    "  loss_history = []\n",
    "  timeVec = []\n",
    "\n",
    "  # Compute the starting value of the loss \n",
    "  hw = h(X,y,w)\n",
    "  loss_history.append(hw)\n",
    "\n",
    "  # start the time\n",
    "  start_time = time.time()\n",
    "  timeVec.append(time.time() - start_time)\n",
    "  \n",
    "  for it in range(maxit):\n",
    "\n",
    "      # check the stopping criteria: loss lower than target value fstop\n",
    "      if hw <= fstop:\n",
    "          break\n",
    "\n",
    "      # gradient evaluation\n",
    "      # pick a random index\n",
    "      ind = np.random.randint(len(X))\n",
    "      # update the corresponding component\n",
    "      g = grad(X[ind,:].reshape(1,-1), y[ind,:].reshape(1,-1), w)\n",
    "      d = - g\n",
    "\n",
    "      # reduced alpha\n",
    "#       alpha = alpha/(it+1)\n",
    "      alpha = np.sqrt(alpha/(it/17+1))\n",
    "#       alpha = np.sqrt(alpha*2/(it+1))\n",
    "#       alpha = np.sqrt(alpha/(it/5+100))\n",
    "      # alpha = np.sqrt(alpha/(it/100 + 10000))\n",
    "      # alpha = (alpha/(it+20000))**(1/2)\n",
    "\n",
    "      # parameters update  \n",
    "      w = w + alpha * d\n",
    "\n",
    "      # new loss evaluation every 10000 iterations\n",
    "      if it%30 == 0:\n",
    "        hw = h(X,y,w)        \n",
    "        loss_history.append(hw)\n",
    "\n",
    "        # add the cumulative time every 10000 iteractions\n",
    "        timeVec.append(time.time() - start_time)\n",
    "      \n",
    "\n",
    "  ttot = time.time() - start_time\n",
    "\n",
    "  return [w,it+1,hw,ttot,loss_history,timeVec]"
   ]
  },
  {
   "cell_type": "code",
   "execution_count": 21,
   "metadata": {
    "colab": {
     "base_uri": "https://localhost:8080/",
     "height": 353
    },
    "colab_type": "code",
    "executionInfo": {
     "elapsed": 3148,
     "status": "ok",
     "timestamp": 1589719112472,
     "user": {
      "displayName": "Luca Dal Zotto",
      "photoUrl": "https://lh3.googleusercontent.com/a-/AOh14GhD7XGJmCeDtA5XbyjEDnO63Wy483NNMLaHJUQ9=s64",
      "userId": "08734846331181599133"
     },
     "user_tz": -120
    },
    "id": "MEm-hWPQ5nBO",
    "outputId": "9b24a764-175d-4a24-dacf-f7d9a1bd00a7"
   },
   "outputs": [
    {
     "name": "stdout",
     "output_type": "stream",
     "text": [
      "***************\n",
      "*  GD Method  *\n",
      "***************\n",
      "h(w) =  2.358971642574822\n",
      "Number of iterations =  15\n",
      "CPU time so far =  6.471180438995361\n",
      "\n",
      "***************\n",
      "*  SGD Method *\n",
      "***************\n",
      "h(w) =  2.5454787604360183\n",
      "Number of iterations =  1000\n",
      "CPU time so far =  5.0299787521362305\n",
      "\n",
      "***************\n",
      "* SVRG Method *\n",
      "***************\n",
      "h(w) =  0.9886291173919602\n",
      "Number of iterations =  300\n",
      "CPU time so far =  6.3355138301849365\n"
     ]
    }
   ],
   "source": [
    "# target loss function value:\n",
    "fstop = 0\n",
    "\n",
    "# Max number of iterations\n",
    "maxit_gd = 15 \n",
    "maxit_sgd= 1000\n",
    "max_epoch = 15\n",
    "iter_per_epoch = 20\n",
    "\n",
    "# Step-size\n",
    "alpha_gd = 0.5\n",
    "alpha_sgd = 0.5\n",
    "alpha_svrg = 0.1\n",
    "\n",
    "# Lambda\n",
    "Lambda = 0.01\n",
    "\n",
    "# starting point\n",
    "# w0= np.zeros((X.shape[1],1));\n",
    "np.random.seed(123)\n",
    "w0 = np.random.uniform(0,1, (X.shape[1],1))\n",
    "\n",
    "\n",
    "print('***************')\n",
    "print('*  GD Method  *')\n",
    "print('***************')\n",
    "\n",
    "[w,it,hw,ttot,loss_history_gd,timeVec_gd] = GD(X_large, y_large, w0, alpha_gd, maxit_gd, Lambda, fstop)\n",
    "\n",
    "\n",
    "# Print results\n",
    "print('h(w) = ',hw)\n",
    "print('Number of iterations = ', it)\n",
    "print('CPU time so far = ', ttot)\n",
    "print('')\n",
    "\n",
    "\n",
    "print('***************')\n",
    "print('*  SGD Method *')\n",
    "print('***************')\n",
    "\n",
    "[w,it,hw,ttot,loss_history_sgd,timeVec_sgd] = SGD(X_large, y_large, w0, alpha_sgd, maxit_sgd, Lambda, fstop)\n",
    "\n",
    "# Print results\n",
    "print('h(w) = ',hw)\n",
    "print('Number of iterations = ', it)\n",
    "print('CPU time so far = ', ttot)\n",
    "print('')\n",
    "\n",
    "\n",
    "print('***************')\n",
    "print('* SVRG Method *')\n",
    "print('***************')\n",
    "\n",
    "[w,it,hw,ttot,loss_history_svrg,timeVec_svrg] = SVRG(X_large, y_large, w0, alpha_svrg, iter_per_epoch, max_epoch, Lambda, fstop)\n",
    "\n",
    "# Print results\n",
    "print('h(w) = ',hw)\n",
    "print('Number of iterations = ', it)\n",
    "print('CPU time so far = ', ttot)\n"
   ]
  },
  {
   "cell_type": "code",
   "execution_count": 22,
   "metadata": {
    "colab": {
     "base_uri": "https://localhost:8080/",
     "height": 415
    },
    "colab_type": "code",
    "executionInfo": {
     "elapsed": 3237,
     "status": "ok",
     "timestamp": 1589719120834,
     "user": {
      "displayName": "Luca Dal Zotto",
      "photoUrl": "https://lh3.googleusercontent.com/a-/AOh14GhD7XGJmCeDtA5XbyjEDnO63Wy483NNMLaHJUQ9=s64",
      "userId": "08734846331181599133"
     },
     "user_tz": -120
    },
    "id": "9y1HBcnh21jP",
    "outputId": "26359aa3-0d13-4e3f-e43a-0e573691e1b7"
   },
   "outputs": [
    {
     "data": {
      "image/png": "[encoded data removed]",
      "text/plain": [
       "<Figure size 720x432 with 1 Axes>"
      ]
     },
     "metadata": {
      "needs_background": "light"
     },
     "output_type": "display_data"
    }
   ],
   "source": [
    "# Plot accuracy vs CPU time\n",
    "plt.figure(figsize=(10,6))\n",
    "\n",
    "plt.plot(timeVec_gd,loss_history_gd, color='red')\n",
    "\n",
    "plt.plot(timeVec_sgd,loss_history_sgd, color='blue')\n",
    "\n",
    "plt.plot(timeVec_svrg,loss_history_svrg, color='green')\n",
    "\n",
    "plt.title('Loss vs CPU Time', fontsize=22)\n",
    "plt.xlabel('CPU Time', fontsize=15)\n",
    "plt.ylabel('Loss', fontsize=15)\n",
    "z = plt.legend(('GD','SGD','SVRG'), fontsize=15)\n"
   ]
  },
  {
   "cell_type": "markdown",
   "metadata": {
    "colab_type": "text",
    "id": "y0EjgieAw9kX"
   },
   "source": [
    "### Compare the CPU time required by the three methods to reach a value of the loss function smaller than 2"
   ]
  },
  {
   "cell_type": "code",
   "execution_count": 23,
   "metadata": {},
   "outputs": [],
   "source": [
    "# Different diminishing step-size\n",
    "\n",
    "def SGD(X, y, w, alpha, maxit, Lambda, fstop = 0):\n",
    "\n",
    "  # Implementation of the Stochastic Gradient Descent method\n",
    "\n",
    "  # INPUT:\n",
    "  # X = feature matrix\n",
    "  # y = labels\n",
    "  # w = initial vector of parameters\n",
    "  # alpha = starting step-size\n",
    "  # maxit = max number of iterations\n",
    "  # Lambda = regularization term\n",
    "  # fstop = target loss function value\n",
    "\n",
    "  # OUTPUT:\n",
    "  # w = final values of the parameters\n",
    "  # it = number of iterations\n",
    "  # hw = final value of the loss function\n",
    "  # ttot = total CPU time expired\n",
    "  # loss_history = vector of the loss funcion at each iteration\n",
    "  # timeVec = vector of the CPU time required by each iteration\n",
    "\n",
    "  # Initialize time and loss vectors  \n",
    "  loss_history = []\n",
    "  timeVec = []\n",
    "\n",
    "  # Compute the starting value of the loss \n",
    "  hw = h(X,y,w)\n",
    "  loss_history.append(hw)\n",
    "\n",
    "  # start the time\n",
    "  start_time = time.time()\n",
    "  timeVec.append(time.time() - start_time)\n",
    "  \n",
    "  for it in range(maxit):\n",
    "\n",
    "      # check the stopping criteria: loss lower than target value fstop\n",
    "      if hw <= fstop:\n",
    "          break\n",
    "\n",
    "      # gradient evaluation\n",
    "      # pick a random index\n",
    "      ind = np.random.randint(len(X))\n",
    "      # update the corresponding component\n",
    "      g = grad(X[ind,:].reshape(1,-1), y[ind,:].reshape(1,-1), w)\n",
    "      d = - g\n",
    "\n",
    "      # reduced alpha\n",
    "#       alpha = alpha/(it+1)\n",
    "      alpha = np.sqrt(alpha/(it/17+1))\n",
    "#       alpha = np.sqrt(alpha*2/(it+1))\n",
    "#       alpha = np.sqrt(alpha/(it/5+100))\n",
    "      # alpha = np.sqrt(alpha/(it/100 + 10000))\n",
    "      # alpha = (alpha/(it+20000))**(1/2)\n",
    "\n",
    "      # parameters update  \n",
    "      w = w + alpha * d\n",
    "\n",
    "      # new loss evaluation every 10000 iterations\n",
    "      if it%30 == 0:\n",
    "        hw = h(X,y,w)        \n",
    "        loss_history.append(hw)\n",
    "\n",
    "        # add the cumulative time every 10000 iteractions\n",
    "        timeVec.append(time.time() - start_time)\n",
    "      \n",
    "\n",
    "  ttot = time.time() - start_time\n",
    "\n",
    "  return [w,it+1,hw,ttot,loss_history,timeVec]"
   ]
  },
  {
   "cell_type": "code",
   "execution_count": 24,
   "metadata": {
    "colab": {
     "base_uri": "https://localhost:8080/",
     "height": 353
    },
    "colab_type": "code",
    "executionInfo": {
     "elapsed": 3856,
     "status": "ok",
     "timestamp": 1589704674824,
     "user": {
      "displayName": "Luca Dal Zotto",
      "photoUrl": "https://lh3.googleusercontent.com/a-/AOh14GhD7XGJmCeDtA5XbyjEDnO63Wy483NNMLaHJUQ9=s64",
      "userId": "08734846331181599133"
     },
     "user_tz": -120
    },
    "id": "NYKHKHFCsbnC",
    "outputId": "db84fc3d-d8f6-49ba-eebb-a4c0d9102a68"
   },
   "outputs": [
    {
     "name": "stdout",
     "output_type": "stream",
     "text": [
      "***************\n",
      "*  GD Method  *\n",
      "***************\n",
      "h(w) =  1.6698348295342769\n",
      "Number of iterations =  18\n",
      "CPU time so far =  7.066143035888672\n",
      "\n",
      "***************\n",
      "*  SGD Method *\n",
      "***************\n",
      "h(w) =  1.8615139379663928\n",
      "Number of iterations =  1322\n",
      "CPU time so far =  6.500978946685791\n",
      "\n",
      "***************\n",
      "* SVRG Method *\n",
      "***************\n",
      "h(w) =  1.800522183431801\n",
      "Number of iterations =  126\n",
      "CPU time so far =  2.498244285583496\n"
     ]
    }
   ],
   "source": [
    "# target loss function value:\n",
    "fstop = 2\n",
    "\n",
    "# Max number of iterations\n",
    "maxit_gd = 20 \n",
    "maxit_sgd= 1500\n",
    "max_epoch = 15\n",
    "iter_per_epoch = 18\n",
    "\n",
    "# Step-size\n",
    "alpha_gd = 0.5\n",
    "alpha_sgd = 0.01\n",
    "# alphasgd = 0.5\n",
    "alpha_svrg = 0.1\n",
    "\n",
    "# Lambda\n",
    "Lambda = 0.01\n",
    "\n",
    "# starting point\n",
    "# w0= np.zeros((X.shape[1],1));\n",
    "np.random.seed(123)\n",
    "w0 = np.random.uniform(0,1, (X.shape[1],1))\n",
    "\n",
    "\n",
    "print('***************')\n",
    "print('*  GD Method  *')\n",
    "print('***************')\n",
    "\n",
    "[w,it,hw,ttot,loss_history_gd,timeVec_gd] = GD(X_large, y_large, w0, alpha_gd, maxit_gd, Lambda, fstop)\n",
    "\n",
    "\n",
    "# Print results\n",
    "print('h(w) = ',hw)\n",
    "print('Number of iterations = ', it)\n",
    "print('CPU time so far = ', ttot)\n",
    "print('')\n",
    "\n",
    "\n",
    "print('***************')\n",
    "print('*  SGD Method *')\n",
    "print('***************')\n",
    "\n",
    "[w,it,hw,ttot,loss_history_sgd,timeVec_sgd] = SGD(X_large, y_large, w0, alpha_sgd, maxit_sgd, Lambda, fstop)\n",
    "\n",
    "\n",
    "# Print results\n",
    "print('h(w) = ',hw)\n",
    "print('Number of iterations = ', it)\n",
    "print('CPU time so far = ', ttot)\n",
    "print('')\n",
    "\n",
    "\n",
    "print('***************')\n",
    "print('* SVRG Method *')\n",
    "print('***************')\n",
    "\n",
    "[w,it,hw,ttot,loss_history_svrg,timeVec_svrg] = SVRG(X_large, y_large, w0, alpha_svrg, iter_per_epoch, max_epoch, Lambda, fstop)\n",
    "\n",
    "# Print results\n",
    "print('h(w) = ',hw)\n",
    "print('Number of iterations = ', it)\n",
    "print('CPU time so far = ', ttot)"
   ]
  },
  {
   "cell_type": "code",
   "execution_count": 25,
   "metadata": {
    "colab": {
     "base_uri": "https://localhost:8080/",
     "height": 415
    },
    "colab_type": "code",
    "executionInfo": {
     "elapsed": 1010,
     "status": "ok",
     "timestamp": 1589704680094,
     "user": {
      "displayName": "Luca Dal Zotto",
      "photoUrl": "https://lh3.googleusercontent.com/a-/AOh14GhD7XGJmCeDtA5XbyjEDnO63Wy483NNMLaHJUQ9=s64",
      "userId": "08734846331181599133"
     },
     "user_tz": -120
    },
    "id": "Vrvq1Y5isbkl",
    "outputId": "f4e77428-d47f-4278-9b28-3fa566497a61"
   },
   "outputs": [
    {
     "data": {
      "image/png": "[encoded data removed]",
      "text/plain": [
       "<Figure size 720x432 with 1 Axes>"
      ]
     },
     "metadata": {
      "needs_background": "light"
     },
     "output_type": "display_data"
    }
   ],
   "source": [
    "# Plot accuracy vs CPU time\n",
    "plt.figure(figsize=(10,6))\n",
    "\n",
    "plt.plot(timeVec_gd,loss_history_gd, color='red')\n",
    "\n",
    "plt.plot(timeVec_sgd,loss_history_sgd, color='blue')\n",
    "\n",
    "plt.plot(timeVec_svrg,loss_history_svrg, color='green')\n",
    "\n",
    "plt.title('Loss vs CPU Time', fontsize=22)\n",
    "plt.xlabel('CPU Time', fontsize=15)\n",
    "plt.ylabel('Loss', fontsize=15)\n",
    "z = plt.legend(('GD','SGD','SVRG'), fontsize=15)\n"
   ]
  },
  {
   "cell_type": "markdown",
   "metadata": {
    "colab_type": "text",
    "id": "a77Lw4mW-zL7"
   },
   "source": [
    "### Different values of the regularization parameter"
   ]
  },
  {
   "cell_type": "markdown",
   "metadata": {},
   "source": [
    "#### $\\lambda$ = 1"
   ]
  },
  {
   "cell_type": "code",
   "execution_count": 26,
   "metadata": {
    "colab": {
     "base_uri": "https://localhost:8080/",
     "height": 353
    },
    "colab_type": "code",
    "executionInfo": {
     "elapsed": 3138,
     "status": "ok",
     "timestamp": 1589710162345,
     "user": {
      "displayName": "Luca Dal Zotto",
      "photoUrl": "https://lh3.googleusercontent.com/a-/AOh14GhD7XGJmCeDtA5XbyjEDnO63Wy483NNMLaHJUQ9=s64",
      "userId": "08734846331181599133"
     },
     "user_tz": -120
    },
    "id": "20X9kEQi-s8K",
    "outputId": "774c39fa-42dd-4bf5-fde8-9c205810ee66"
   },
   "outputs": [
    {
     "name": "stdout",
     "output_type": "stream",
     "text": [
      "***************\n",
      "*  GD Method  *\n",
      "***************\n",
      "h(w) =  1.6702337972591907\n",
      "Number of iterations =  18\n",
      "CPU time so far =  6.980629205703735\n",
      "\n",
      "***************\n",
      "*  SGD Method *\n",
      "***************\n",
      "h(w) =  1.99179636245301\n",
      "Number of iterations =  842\n",
      "CPU time so far =  4.3913257122039795\n",
      "\n",
      "***************\n",
      "* SVRG Method *\n",
      "***************\n",
      "h(w) =  1.4954731888367785\n",
      "Number of iterations =  140\n",
      "CPU time so far =  2.474806070327759\n"
     ]
    }
   ],
   "source": [
    "# target loss function value:\n",
    "fstop = 2\n",
    "\n",
    "# Max number of iterations\n",
    "maxit_gd = 20 \n",
    "maxit_sgd= 1000\n",
    "max_epoch = 15\n",
    "iter_per_epoch = 20\n",
    "\n",
    "# Step-size\n",
    "alpha_gd = 0.5\n",
    "alpha_sgd = 0.5\n",
    "alpha_svrg = 0.1\n",
    "\n",
    "# Lambda\n",
    "Lambda = 1\n",
    "\n",
    "# starting point\n",
    "# w0= np.zeros((X.shape[1],1));\n",
    "np.random.seed(123)\n",
    "w0 = np.random.uniform(0,1, (X.shape[1],1))\n",
    "\n",
    "\n",
    "print('***************')\n",
    "print('*  GD Method  *')\n",
    "print('***************')\n",
    "\n",
    "[w,it,hw,ttot,loss_history_gd,timeVec_gd] = GD(X_large, y_large, w0, alpha_gd, maxit_gd, Lambda, fstop)\n",
    "\n",
    "\n",
    "# Print results\n",
    "print('h(w) = ',hw)\n",
    "print('Number of iterations = ', it)\n",
    "print('CPU time so far = ', ttot)\n",
    "print('')\n",
    "\n",
    "\n",
    "print('***************')\n",
    "print('*  SGD Method *')\n",
    "print('***************')\n",
    "\n",
    "[w,it,hw,ttot,loss_history_sgd,timeVec_sgd] = SGD(X_large, y_large, w0, alpha_sgd, maxit_sgd, Lambda, fstop)\n",
    "\n",
    "# Print results\n",
    "print('h(w) = ',hw)\n",
    "print('Number of iterations = ', it)\n",
    "print('CPU time so far = ', ttot)\n",
    "print('')\n",
    "\n",
    "\n",
    "print('***************')\n",
    "print('* SVRG Method *')\n",
    "print('***************')\n",
    "\n",
    "[w,it,hw,ttot,loss_history_svrg,timeVec_svrg] = SVRG(X_large, y_large, w0, alpha_svrg, iter_per_epoch, max_epoch, Lambda, fstop)\n",
    "\n",
    "# Print results\n",
    "print('h(w) = ',hw)\n",
    "print('Number of iterations = ', it)\n",
    "print('CPU time so far = ', ttot)\n"
   ]
  },
  {
   "cell_type": "code",
   "execution_count": 27,
   "metadata": {
    "colab": {
     "base_uri": "https://localhost:8080/",
     "height": 415
    },
    "colab_type": "code",
    "executionInfo": {
     "elapsed": 1521,
     "status": "ok",
     "timestamp": 1589710164050,
     "user": {
      "displayName": "Luca Dal Zotto",
      "photoUrl": "https://lh3.googleusercontent.com/a-/AOh14GhD7XGJmCeDtA5XbyjEDnO63Wy483NNMLaHJUQ9=s64",
      "userId": "08734846331181599133"
     },
     "user_tz": -120
    },
    "id": "34Uh5tTN-w3t",
    "outputId": "a49e6364-ff7e-4bc8-da6b-505af9906bea"
   },
   "outputs": [
    {
     "data": {
      "image/png": "[encoded data removed]",
      "text/plain": [
       "<Figure size 720x432 with 1 Axes>"
      ]
     },
     "metadata": {
      "needs_background": "light"
     },
     "output_type": "display_data"
    }
   ],
   "source": [
    "# Plot accuracy vs CPU time\n",
    "plt.figure(figsize=(10,6))\n",
    "\n",
    "plt.plot(timeVec_gd,loss_history_gd, color='red')\n",
    "\n",
    "plt.plot(timeVec_sgd,loss_history_sgd, color='blue')\n",
    "\n",
    "plt.plot(timeVec_svrg,loss_history_svrg, color='green')\n",
    "\n",
    "plt.title('Loss vs CPU Time', fontsize=22)\n",
    "plt.xlabel('CPU Time', fontsize=15)\n",
    "plt.ylabel('Loss', fontsize=15)\n",
    "z = plt.legend(('GD','SGD','SVRG'), fontsize=15)\n"
   ]
  },
  {
   "cell_type": "markdown",
   "metadata": {},
   "source": [
    "#### $\\lambda$ = 10"
   ]
  },
  {
   "cell_type": "code",
   "execution_count": 28,
   "metadata": {},
   "outputs": [
    {
     "name": "stdout",
     "output_type": "stream",
     "text": [
      "***************\n",
      "*  GD Method  *\n",
      "***************\n",
      "h(w) =  1.6738607663703013\n",
      "Number of iterations =  18\n",
      "CPU time so far =  7.413094997406006\n",
      "\n",
      "***************\n",
      "*  SGD Method *\n",
      "***************\n",
      "h(w) =  1.542623273047446\n",
      "Number of iterations =  362\n",
      "CPU time so far =  1.8943817615509033\n",
      "\n",
      "***************\n",
      "* SVRG Method *\n",
      "***************\n",
      "h(w) =  1.8160864539470647\n",
      "Number of iterations =  220\n",
      "CPU time so far =  4.136484622955322\n"
     ]
    }
   ],
   "source": [
    "# target loss function value:\n",
    "fstop = 2\n",
    "\n",
    "# Max number of iterations\n",
    "maxit_gd = 20 \n",
    "maxit_sgd= 1000\n",
    "max_epoch = 15\n",
    "iter_per_epoch = 20\n",
    "\n",
    "# Step-size\n",
    "alpha_gd = 0.5\n",
    "alpha_sgd = 0.5\n",
    "alpha_svrg = 0.1\n",
    "\n",
    "# Lambda\n",
    "Lambda = 10\n",
    "\n",
    "# starting point\n",
    "# w0= np.zeros((X.shape[1],1));\n",
    "np.random.seed(123)\n",
    "w0 = np.random.uniform(0,1, (X.shape[1],1))\n",
    "\n",
    "\n",
    "print('***************')\n",
    "print('*  GD Method  *')\n",
    "print('***************')\n",
    "\n",
    "[w,it,hw,ttot,loss_history_gd,timeVec_gd] = GD(X_large, y_large, w0, alpha_gd, maxit_gd, Lambda, fstop)\n",
    "\n",
    "\n",
    "# Print results\n",
    "print('h(w) = ',hw)\n",
    "print('Number of iterations = ', it)\n",
    "print('CPU time so far = ', ttot)\n",
    "print('')\n",
    "\n",
    "\n",
    "print('***************')\n",
    "print('*  SGD Method *')\n",
    "print('***************')\n",
    "\n",
    "[w,it,hw,ttot,loss_history_sgd,timeVec_sgd] = SGD(X_large, y_large, w0, alpha_sgd, maxit_sgd, Lambda, fstop)\n",
    "\n",
    "# Print results\n",
    "print('h(w) = ',hw)\n",
    "print('Number of iterations = ', it)\n",
    "print('CPU time so far = ', ttot)\n",
    "print('')\n",
    "\n",
    "\n",
    "print('***************')\n",
    "print('* SVRG Method *')\n",
    "print('***************')\n",
    "\n",
    "[w,it,hw,ttot,loss_history_svrg,timeVec_svrg] = SVRG(X_large, y_large, w0, alpha_svrg, iter_per_epoch, max_epoch, Lambda, fstop)\n",
    "\n",
    "# Print results\n",
    "print('h(w) = ',hw)\n",
    "print('Number of iterations = ', it)\n",
    "print('CPU time so far = ', ttot)\n"
   ]
  },
  {
   "cell_type": "code",
   "execution_count": 29,
   "metadata": {},
   "outputs": [
    {
     "data": {
      "image/png": "[encoded data removed]",
      "text/plain": [
       "<Figure size 720x432 with 1 Axes>"
      ]
     },
     "metadata": {
      "needs_background": "light"
     },
     "output_type": "display_data"
    }
   ],
   "source": [
    "# Plot accuracy vs CPU time\n",
    "plt.figure(figsize=(10,6))\n",
    "\n",
    "plt.plot(timeVec_gd,loss_history_gd, color='red')\n",
    "\n",
    "plt.plot(timeVec_sgd,loss_history_sgd, color='blue')\n",
    "\n",
    "plt.plot(timeVec_svrg,loss_history_svrg, color='green')\n",
    "\n",
    "plt.title('Loss vs CPU Time', fontsize=22)\n",
    "plt.xlabel('CPU Time', fontsize=15)\n",
    "plt.ylabel('Loss', fontsize=15)\n",
    "z = plt.legend(('GD','SGD','SVRG'), fontsize=15)\n"
   ]
  },
  {
   "cell_type": "markdown",
   "metadata": {},
   "source": [
    "#### $\\lambda$ = 50"
   ]
  },
  {
   "cell_type": "code",
   "execution_count": 30,
   "metadata": {},
   "outputs": [
    {
     "name": "stdout",
     "output_type": "stream",
     "text": [
      "***************\n",
      "*  GD Method  *\n",
      "***************\n",
      "h(w) =  1.6899804065928603\n",
      "Number of iterations =  18\n",
      "CPU time so far =  7.3231401443481445\n",
      "\n",
      "***************\n",
      "*  SGD Method *\n",
      "***************\n",
      "h(w) =  1.5553605225137783\n",
      "Number of iterations =  122\n",
      "CPU time so far =  0.6823775768280029\n",
      "\n",
      "***************\n",
      "* SVRG Method *\n",
      "***************\n",
      "h(w) =  1.8564001899303924\n",
      "Number of iterations =  180\n",
      "CPU time so far =  3.354271650314331\n"
     ]
    }
   ],
   "source": [
    "# target loss function value:\n",
    "fstop = 2\n",
    "\n",
    "# Max number of iterations\n",
    "maxit_gd = 20 \n",
    "maxit_sgd= 1000\n",
    "max_epoch = 15\n",
    "iter_per_epoch = 20\n",
    "\n",
    "# Step-size\n",
    "alpha_gd = 0.5\n",
    "alpha_sgd = 0.5\n",
    "alpha_svrg = 0.1\n",
    "\n",
    "# Lambda\n",
    "Lambda = 50\n",
    "\n",
    "# starting point\n",
    "# w0= np.zeros((X.shape[1],1));\n",
    "np.random.seed(123)\n",
    "w0 = np.random.uniform(0,1, (X.shape[1],1))\n",
    "\n",
    "\n",
    "print('***************')\n",
    "print('*  GD Method  *')\n",
    "print('***************')\n",
    "\n",
    "[w,it,hw,ttot,loss_history_gd,timeVec_gd] = GD(X_large, y_large, w0, alpha_gd, maxit_gd, Lambda, fstop)\n",
    "\n",
    "\n",
    "# Print results\n",
    "print('h(w) = ',hw)\n",
    "print('Number of iterations = ', it)\n",
    "print('CPU time so far = ', ttot)\n",
    "print('')\n",
    "\n",
    "\n",
    "print('***************')\n",
    "print('*  SGD Method *')\n",
    "print('***************')\n",
    "\n",
    "[w,it,hw,ttot,loss_history_sgd,timeVec_sgd] = SGD(X_large, y_large, w0, alpha_sgd, maxit_sgd, Lambda, fstop)\n",
    "\n",
    "# Print results\n",
    "print('h(w) = ',hw)\n",
    "print('Number of iterations = ', it)\n",
    "print('CPU time so far = ', ttot)\n",
    "print('')\n",
    "\n",
    "\n",
    "print('***************')\n",
    "print('* SVRG Method *')\n",
    "print('***************')\n",
    "\n",
    "[w,it,hw,ttot,loss_history_svrg,timeVec_svrg] = SVRG(X_large, y_large, w0, alpha_svrg, iter_per_epoch, max_epoch, Lambda, fstop)\n",
    "\n",
    "# Print results\n",
    "print('h(w) = ',hw)\n",
    "print('Number of iterations = ', it)\n",
    "print('CPU time so far = ', ttot)\n"
   ]
  },
  {
   "cell_type": "code",
   "execution_count": 31,
   "metadata": {},
   "outputs": [
    {
     "data": {
      "image/png": "[encoded data removed]",
      "text/plain": [
       "<Figure size 720x432 with 1 Axes>"
      ]
     },
     "metadata": {
      "needs_background": "light"
     },
     "output_type": "display_data"
    }
   ],
   "source": [
    "# Plot accuracy vs CPU time\n",
    "plt.figure(figsize=(10,6))\n",
    "\n",
    "plt.plot(timeVec_gd,loss_history_gd, color='red')\n",
    "\n",
    "plt.plot(timeVec_sgd,loss_history_sgd, color='blue')\n",
    "\n",
    "plt.plot(timeVec_svrg,loss_history_svrg, color='green')\n",
    "\n",
    "plt.title('Loss vs CPU Time', fontsize=22)\n",
    "plt.xlabel('CPU Time', fontsize=15)\n",
    "plt.ylabel('Loss', fontsize=15)\n",
    "z = plt.legend(('GD','SGD','SVRG'), fontsize=15)\n"
   ]
  },
  {
   "cell_type": "code",
   "execution_count": null,
   "metadata": {
    "colab": {},
    "colab_type": "code",
    "id": "5olDyuSqI7i0"
   },
   "outputs": [],
   "source": []
  }
 ],
 "metadata": {
  "colab": {
   "authorship_tag": "ABX9TyMIcYNqnaxxZmOfKTed8Dpb",
   "collapsed_sections": [],
   "name": "correct_Luca_Dal_Zotto_OPT_HW1_draft.ipynb",
   "provenance": [
    {
     "file_id": "1bh-QmeCJ0yLfD0RvGGVRlbw2at4EXL57",
     "timestamp": 1589717272044
    },
    {
     "file_id": "1mttWJU5xwKiY6u_9R2kYR_CGsu-TvRJH",
     "timestamp": 1589701600287
    },
    {
     "file_id": "1MzWWNwuWcxd_-4ZjmC63Sm-lkcDStNxg",
     "timestamp": 1589642126987
    },
    {
     "file_id": "1ouOufDrCZh6SNiLvzlXz08S3Z3VoDJmz",
     "timestamp": 1589636187108
    },
    {
     "file_id": "1uSLfSxzgfObXvfvgApm54ku3UlJqxJL2",
     "timestamp": 1589569081289
    },
    {
     "file_id": "18gp4H6WICHlr4N8x2PXK5wUUccItOhsF",
     "timestamp": 1589561361016
    },
    {
     "file_id": "1aZZtM1Gu8tjAMOYmz6NswGifHfR0J7PN",
     "timestamp": 1589546148549
    },
    {
     "file_id": "1qiRWVvFahT8pEeNGUacL0tSYtzuoywX-",
     "timestamp": 1589537379474
    }
   ]
  },
  "kernelspec": {
   "display_name": "Python 3",
   "language": "python",
   "name": "python3"
  },
  "language_info": {
   "codemirror_mode": {
    "name": "ipython",
    "version": 3
   },
   "file_extension": ".py",
   "mimetype": "text/x-python",
   "name": "python",
   "nbconvert_exporter": "python",
   "pygments_lexer": "ipython3",
   "version": "3.7.3"
  }
 },
 "nbformat": 4,
 "nbformat_minor": 4
}
